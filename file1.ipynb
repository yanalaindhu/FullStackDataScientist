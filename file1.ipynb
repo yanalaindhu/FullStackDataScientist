{
 "cells": [
  {
   "cell_type": "code",
   "execution_count": 2,
   "id": "beee19f0",
   "metadata": {},
   "outputs": [
    {
     "name": "stdout",
     "output_type": "stream",
     "text": [
      "2 3\n",
      "3 2\n"
     ]
    }
   ],
   "source": [
    "#You are developing a small calculator app. Write a program that takes two numbers from the \n",
    "# user and swaps them without using a third variable, so users can correct their input order.\n",
    "m=int(input(\"enter 1st num\"))\n",
    "n=int(input(\"enter 2nd num\"))\n",
    "print(m,n)\n",
    "m = m + n\n",
    "n = m - n\n",
    "m = m - n\n",
    "print(m,n)"
   ]
  },
  {
   "cell_type": "code",
   "execution_count": null,
   "id": "ae5e944d",
   "metadata": {},
   "outputs": [
    {
     "name": "stdout",
     "output_type": "stream",
     "text": [
      "Reversed string: uhdni\n"
     ]
    }
   ],
   "source": [
    "#A library wants to build a feature to display book titles backwards for a “mirror view” theme.\n",
    "# Write a program that reverses a given string without using slicing.\n",
    "s = input(\"Enter a string: \")\n",
    "rev = \"\".join(reversed(s))\n",
    "print(\"Reversed string:\", rev)"
   ]
  },
  {
   "cell_type": "code",
   "execution_count": 6,
   "id": "bf0fa6b1",
   "metadata": {},
   "outputs": [
    {
     "name": "stdout",
     "output_type": "stream",
     "text": [
      "armstrong number\n"
     ]
    }
   ],
   "source": [
    "#An ATM machine verifies special numbers before processing transactions. \n",
    "# Write a program to check if a number entered by the customer is an Armstrong number.\n",
    "n=int(input(\"enter the number\"))\n",
    "n1=n\n",
    "s=0\n",
    "l = len(str(n))\n",
    "while n>0:\n",
    "    d=n%10\n",
    "    s+=d**l\n",
    "    n//=10\n",
    "if n1==s:\n",
    "    print(\"armstrong number\")\n",
    "else:\n",
    "    print(\"not armstrong number\")"
   ]
  },
  {
   "cell_type": "code",
   "execution_count": 9,
   "id": "e04ce445",
   "metadata": {},
   "outputs": [
    {
     "name": "stdout",
     "output_type": "stream",
     "text": [
      "vowels count 2\n",
      "consonants count 3\n"
     ]
    }
   ],
   "source": [
    "#A language learning app wants to check how many vowels and consonants a user has typed in a practice sentence. \n",
    "# Write a program to count vowels and consonants in a given sentence.\n",
    "text=input(\"enter the string\")\n",
    "text.lower()\n",
    "cv=0\n",
    "cc=0\n",
    "vowels=\"aeiou\"\n",
    "for ch in text:\n",
    "    if ch.isalpha():\n",
    "        if ch in vowels:\n",
    "            cv+=1\n",
    "        else:\n",
    "            cc+=1\n",
    "print(\"vowels count\",cv)\n",
    "print(\"consonants count\",cc)"
   ]
  },
  {
   "cell_type": "code",
   "execution_count": 10,
   "id": "fb9f2c71",
   "metadata": {},
   "outputs": [
    {
     "name": "stdout",
     "output_type": "stream",
     "text": [
      "4 x 1 = 4\n",
      "4 x 2 = 8\n",
      "4 x 3 = 12\n",
      "4 x 4 = 16\n",
      "4 x 5 = 20\n",
      "4 x 6 = 24\n",
      "4 x 7 = 28\n",
      "4 x 8 = 32\n",
      "4 x 9 = 36\n",
      "4 x 10 = 40\n"
     ]
    }
   ],
   "source": [
    "#In an e-learning platform, when a student inputs a number, the system should generate \n",
    "# its multiplication table (up to 10) as practice material. Write a program to do this.\n",
    "n=int(input(\"enter number\"))\n",
    "for i in range(1,11):\n",
    "    print(n,\"x\",i,\"=\",n*i)"
   ]
  },
  {
   "cell_type": "code",
   "execution_count": 12,
   "id": "12bf9db0",
   "metadata": {},
   "outputs": [
    {
     "name": "stdout",
     "output_type": "stream",
     "text": [
      "leap year\n"
     ]
    }
   ],
   "source": [
    "#A travel company checks leap years to calculate special discounts on leap day.\n",
    "#  Write a program to check if a given year is a leap year\n",
    "n=int(input(\"enter year\"))\n",
    "if(n%100!=0 and n%4==0 or (n%400==0)):\n",
    "    print(\"leap year\")\n",
    "else:\n",
    "    print(\"not a leap year\")"
   ]
  },
  {
   "cell_type": "code",
   "execution_count": 17,
   "id": "dc9ce7d8",
   "metadata": {},
   "outputs": [
    {
     "name": "stdout",
     "output_type": "stream",
     "text": [
      "101\n"
     ]
    }
   ],
   "source": [
    "#A gaming app wants to determine the highest score out of 5 attempts. \n",
    "# Write a program to take 5 numbers as input and print the largest.\n",
    "scores=[]\n",
    "for i in range(5):\n",
    "    n=int(input(\"enter a number\"))\n",
    "    scores.append(n)\n",
    "\n",
    "largest=max(scores)\n",
    "print(largest)"
   ]
  },
  {
   "cell_type": "code",
   "execution_count": 19,
   "id": "5245ba85",
   "metadata": {},
   "outputs": [
    {
     "name": "stdout",
     "output_type": "stream",
     "text": [
      "palindrome\n"
     ]
    }
   ],
   "source": [
    "#A healthcare app stores patient IDs and checks if they are palindromes for easy recall.\n",
    "#  Write a program that checks if a given string ID is a palindrome.\n",
    "n=input(\"enter string\")\n",
    "if n==n[::-1]:\n",
    "    print(\"palindrome\")\n",
    "else:\n",
    "    print(\"not a palindrome\")"
   ]
  },
  {
   "cell_type": "code",
   "execution_count": 21,
   "id": "b55bf085",
   "metadata": {},
   "outputs": [
    {
     "name": "stdout",
     "output_type": "stream",
     "text": [
      "6\n"
     ]
    }
   ],
   "source": [
    "#A factory wants to calculate the number of ways workers can be arranged in a line.\n",
    "#  Write a program to find the factorial of a number.\n",
    "n=int(input(\"enter a number\"))\n",
    "fact=1\n",
    "for i in range(1,n+1):\n",
    "    fact*=i\n",
    "print(fact)"
   ]
  },
  {
   "cell_type": "code",
   "execution_count": 24,
   "id": "bbc9a589",
   "metadata": {},
   "outputs": [
    {
     "name": "stdout",
     "output_type": "stream",
     "text": [
      "15\n",
      "30\n",
      "45\n",
      "60\n",
      "75\n",
      "90\n"
     ]
    }
   ],
   "source": [
    "#A company gives rewards for numbers divisible by both 3 and 5. \n",
    "# Write a program to print all numbers between 1 and 100 that qualify.\n",
    "n=int(input(\"enter num limit\"))\n",
    "for i in range(1,n+1):\n",
    "    if i%3==0 and i%5==0:\n",
    "        print(i)\n",
    "    "
   ]
  },
  {
   "cell_type": "code",
   "execution_count": null,
   "id": "5c1b4544",
   "metadata": {},
   "outputs": [],
   "source": [
    "\n",
    "\n",
    "\n",
    "\n"
   ]
  }
 ],
 "metadata": {
  "kernelspec": {
   "display_name": "Python 3",
   "language": "python",
   "name": "python3"
  },
  "language_info": {
   "codemirror_mode": {
    "name": "ipython",
    "version": 3
   },
   "file_extension": ".py",
   "mimetype": "text/x-python",
   "name": "python",
   "nbconvert_exporter": "python",
   "pygments_lexer": "ipython3",
   "version": "3.11.13"
  }
 },
 "nbformat": 4,
 "nbformat_minor": 5
}
