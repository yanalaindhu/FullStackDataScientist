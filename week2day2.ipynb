{
 "cells": [
  {
   "cell_type": "code",
   "execution_count": 3,
   "id": "67d0150b",
   "metadata": {},
   "outputs": [
    {
     "data": {
      "text/plain": [
       "8"
      ]
     },
     "execution_count": 3,
     "metadata": {},
     "output_type": "execute_result"
    }
   ],
   "source": [
    "#1. Problem: Given a text file, count the total number of words.\n",
    "# create and write into a file\n",
    "with open(\"sample.txt\", \"w\") as f:\n",
    "    f.write(\"Hello world\\nPython is great\\nPython is powerful\")\n",
    "def count(filename):\n",
    "    with open(filename,\"r\") as f:\n",
    "        text=f.read()\n",
    "    words=text.split()\n",
    "    return len(words)\n",
    "count(\"sample.txt\")\n"
   ]
  },
  {
   "cell_type": "code",
   "execution_count": null,
   "id": "a01b9928",
   "metadata": {},
   "outputs": [
    {
     "name": "stdout",
     "output_type": "stream",
     "text": [
      "True\n"
     ]
    }
   ],
   "source": [
    "#Problem: Write a program to check if a password is strong (at least 8 characters, contains uppercase, lowercase, digit, and special char).\n",
    "def strongpassw(passw):\n",
    "    if len(passw) < 8:\n",
    "        return False\n",
    "    has_upper = False\n",
    "    has_lower = False\n",
    "    has_digit = False\n",
    "    has_special = False\n",
    "    for ch in passw:\n",
    "        if ch.isupper():\n",
    "            has_upper = True\n",
    "        elif ch.islower():\n",
    "            has_lower = True\n",
    "        elif ch.isdigit():\n",
    "            has_digit = True\n",
    "        else:  \n",
    "            has_special = True\n",
    "    \n",
    "    return has_upper and has_lower and has_digit and has_special\n",
    "print(strongpassw(\"Pass@123\"))  # True"
   ]
  },
  {
   "cell_type": "code",
   "execution_count": 7,
   "id": "13831cdf",
   "metadata": {},
   "outputs": [
    {
     "name": "stdout",
     "output_type": "stream",
     "text": [
      "2.0\n"
     ]
    }
   ],
   "source": [
    "# Problem: Implement a calculator with +, -, *, / operations.\n",
    "def calculator(a, b, op):\n",
    "    if op == \"+\":\n",
    "        return a + b\n",
    "    elif op == \"-\":\n",
    "        return a - b\n",
    "    elif op == \"*\":\n",
    "        return a * b\n",
    "    elif op == \"/\":\n",
    "        if b != 0:\n",
    "            return a / b\n",
    "        else:\n",
    "            return \"Error: Division by zero\"\n",
    "    else:\n",
    "        return \"Invalid operator\"\n",
    "print(calculator(10, 5, \"/\"))  \n"
   ]
  },
  {
   "cell_type": "code",
   "execution_count": 12,
   "id": "4ab737df",
   "metadata": {},
   "outputs": [
    {
     "name": "stdout",
     "output_type": "stream",
     "text": [
      "indhu\n"
     ]
    }
   ],
   "source": [
    "#Problem: Given a list of student names, find duplicates.\n",
    "def dup(lst):\n",
    "    for ch in set(lst):\n",
    "        if lst.count(ch) > 1:\n",
    "            print(ch)\n",
    "\n",
    "dup([\"indhu\",\"indhu\",\"ammulu\"])\n",
    "\n"
   ]
  },
  {
   "cell_type": "code",
   "execution_count": 15,
   "id": "be7d5f67",
   "metadata": {},
   "outputs": [
    {
     "data": {
      "text/plain": [
       "89.6"
      ]
     },
     "execution_count": 15,
     "metadata": {},
     "output_type": "execute_result"
    }
   ],
   "source": [
    "#Problem: Convert between Celsius and Fahrenheit.\n",
    "def convert(temp,s):\n",
    "    if s.lower() == \"c\":\n",
    "        return (temp*9/5)+32\n",
    "    elif s.lower()==\"f\":\n",
    "        return (temp - 32) * 5/9\n",
    "    else:\n",
    "        print(invalid)\n",
    "convert(32,\"c\")\n"
   ]
  },
  {
   "cell_type": "code",
   "execution_count": 17,
   "id": "72983e9c",
   "metadata": {},
   "outputs": [
    {
     "data": {
      "text/plain": [
       "87"
      ]
     },
     "execution_count": 17,
     "metadata": {},
     "output_type": "execute_result"
    }
   ],
   "source": [
    "#Problem: Find the largest number from a list of integers.\n",
    "def largest(list):\n",
    "    return max(list)\n",
    "largest([34,54,23,87,23])"
   ]
  },
  {
   "cell_type": "code",
   "execution_count": 4,
   "id": "375280ce",
   "metadata": {},
   "outputs": [
    {
     "name": "stdout",
     "output_type": "stream",
     "text": [
      "300.0\n"
     ]
    }
   ],
   "source": [
    "# Problem: Calculate Simple Interest.\n",
    "\n",
    "def simple(p,t,r):\n",
    "    \n",
    "    si=(p*t*r)/100\n",
    "    print(si)\n",
    "simple(2000,3,5)"
   ]
  },
  {
   "cell_type": "code",
   "execution_count": 5,
   "id": "2a7383cc",
   "metadata": {},
   "outputs": [
    {
     "name": "stdout",
     "output_type": "stream",
     "text": [
      "Ammulu 72\n",
      "Ravi 65\n",
      "Kiran 74\n"
     ]
    }
   ],
   "source": [
    "#Problem: Given a dictionary of student names and attendance %, find defaulters (<75%).\n",
    "attendance = {\n",
    "    \"Indhu\": 85,\n",
    "    \"Ammulu\": 72,\n",
    "    \"Ravi\": 65,\n",
    "    \"Priya\": 90,\n",
    "    \"Kiran\": 74\n",
    "}\n",
    "\n",
    "for name, percent in attendance.items():\n",
    "    if percent < 75:\n",
    "        print(name, percent)\n"
   ]
  },
  {
   "cell_type": "code",
   "execution_count": 14,
   "id": "88b2f1bc",
   "metadata": {},
   "outputs": [
    {
     "name": "stdout",
     "output_type": "stream",
     "text": [
      "3\n"
     ]
    }
   ],
   "source": [
    "# Problem: Input: 1234 → Output: 10\n",
    "\n",
    "def sumdigit(n):\n",
    "    s=0\n",
    "    while n>0:\n",
    "        d=n%10\n",
    "        s+=d\n",
    "        n//=10\n",
    "    print(s)\n",
    "sumdigit(102)"
   ]
  },
  {
   "cell_type": "code",
   "execution_count": null,
   "id": "78d2a2ee",
   "metadata": {},
   "outputs": [
    {
     "name": "stdout",
     "output_type": "stream",
     "text": [
      "False\n"
     ]
    }
   ],
   "source": [
    "#Problem: Write a function to check if a number is prime.\n",
    "def prime(n):\n",
    "    if n < 2:\n",
    "        return False\n",
    "    for i in range(2, n):\n",
    "        if n % i == 0:\n",
    "            return False\n",
    "    return True\n",
    "\n",
    "print(prime(20))  \n"
   ]
  },
  {
   "cell_type": "code",
   "execution_count": 21,
   "id": "e074e8d2",
   "metadata": {},
   "outputs": [
    {
     "name": "stdout",
     "output_type": "stream",
     "text": [
      "max: 8\n",
      "min: 2\n"
     ]
    }
   ],
   "source": [
    "#Problem: Find smallest and largest numbers from a list.\n",
    "def largeandsmall(list):\n",
    "    print(\"max:\",max(list))\n",
    "    print(\"min:\",min(list))\n",
    "largeandsmall([4,5,2,3,8])"
   ]
  },
  {
   "cell_type": "code",
   "execution_count": null,
   "id": "e6822403",
   "metadata": {},
   "outputs": [
    {
     "name": "stdout",
     "output_type": "stream",
     "text": [
      "35\n"
     ]
    }
   ],
   "source": [
    "#Problem: Given items with prices in a dictionary, calculate total bill.\n",
    "#snacks = {\"biscuit\": 5, \"chocos\": 10, \"kurkure\": 20}\n",
    "#total = sum(snacks.values())\n",
    "snacks = {\"biscuit\": 5, \"chocos\": 10, \"kurkure\": 20}\n",
    "total = 0\n",
    "for price in snacks.values():\n",
    "    total += price\n",
    "print(total)\n"
   ]
  },
  {
   "cell_type": "code",
   "execution_count": 34,
   "id": "1674b50c",
   "metadata": {},
   "outputs": [
    {
     "name": "stdout",
     "output_type": "stream",
     "text": [
      "65\n"
     ]
    }
   ],
   "source": [
    "#Problem: Input 3 numbers, print the largest.\n",
    "n=list(map(int,input(\"Enter 3 nums: \").split()))\n",
    "print(max(n)) "
   ]
  },
  {
   "cell_type": "code",
   "execution_count": 44,
   "id": "e4dd6e97",
   "metadata": {},
   "outputs": [
    {
     "name": "stdout",
     "output_type": "stream",
     "text": [
      "Counter({'u': 3, 'i': 1, 'n': 1, 'd': 1, 'h': 1})\n"
     ]
    }
   ],
   "source": [
    "#Problem: Count how many times each character appears in a string.\n",
    "from collections import Counter\n",
    "\n",
    "def count_chars(s):\n",
    "    count = Counter(s) \n",
    "    print(count)\n",
    "\n",
    "count_chars(\"indhuuu\")\n"
   ]
  },
  {
   "cell_type": "code",
   "execution_count": 47,
   "id": "5bc13b88",
   "metadata": {},
   "outputs": [
    {
     "name": "stdout",
     "output_type": "stream",
     "text": [
      "Electricity Bill: ₹ 2200\n"
     ]
    }
   ],
   "source": [
    "#. Problem: Calculate electricity bill:\n",
    "#First 100 units → ₹5/unit\n",
    "#Next 100 units → ₹7/unit\n",
    "#Above 200 units → ₹10/unit\n",
    "def cal(units):\n",
    "    if units <= 100:\n",
    "        bill = units * 5\n",
    "    elif units <= 200:\n",
    "        bill = 100 * 5 + (units - 100) * 7\n",
    "    else:\n",
    "        bill = 100 * 5 + 100 * 7 + (units - 200) * 10\n",
    "    return bill  \n",
    "total = cal(300)\n",
    "print(\"Electricity Bill: ₹\", total)\n",
    "\n"
   ]
  },
  {
   "cell_type": "code",
   "execution_count": 64,
   "id": "a19892b6",
   "metadata": {},
   "outputs": [
    {
     "name": "stdout",
     "output_type": "stream",
     "text": [
      "['ammulu', 'indu', 'yashu']\n"
     ]
    }
   ],
   "source": [
    "#Problem: Sort a list of names in ascending order.\n",
    "def sort(list):\n",
    "    return sorted(list)\n",
    "res=sort([\"indu\",\"ammulu\",\"yashu\"])\n",
    "print(res)"
   ]
  },
  {
   "cell_type": "code",
   "execution_count": 14,
   "id": "691b9454",
   "metadata": {},
   "outputs": [
    {
     "data": {
      "text/plain": [
       "'4321'"
      ]
     },
     "execution_count": 14,
     "metadata": {},
     "output_type": "execute_result"
    }
   ],
   "source": [
    "#Problem: Input: 1234 → Output: 4321\n",
    "\n",
    "def reverse(n):\n",
    "    return n[::-1]\n",
    "reverse(\"1234\")\n"
   ]
  },
  {
   "cell_type": "code",
   "execution_count": 67,
   "id": "b4e72500",
   "metadata": {},
   "outputs": [
    {
     "name": "stdout",
     "output_type": "stream",
     "text": [
      "Positive: 3\n",
      "Negative: 2\n",
      "Zero: 2\n"
     ]
    }
   ],
   "source": [
    "#Problem: Given a list, count positive, negative, and zero number\n",
    "numbers = [10, -5, 0, 3, -2, 0, 7]\n",
    "pos = neg = zero = 0\n",
    "for n in numbers:\n",
    "    if n > 0:\n",
    "        pos += 1\n",
    "    elif n < 0:\n",
    "        neg += 1\n",
    "    else:\n",
    "        zero += 1\n",
    "\n",
    "print(\"Positive:\", pos)\n",
    "print(\"Negative:\", neg)\n",
    "print(\"Zero:\", zero)\n"
   ]
  },
  {
   "cell_type": "code",
   "execution_count": 2,
   "id": "92281283",
   "metadata": {},
   "outputs": [
    {
     "name": "stdout",
     "output_type": "stream",
     "text": [
      "locked\n",
      "locked\n",
      "accessed\n"
     ]
    }
   ],
   "source": [
    "# Problem: User has 3 attempts to enter correct PIN.\n",
    "pin=\"1234\"\n",
    "for i in range(3):\n",
    "    typed=input()\n",
    "    if pin==typed:\n",
    "        print(\"accessed\")\n",
    "    else:\n",
    "        print(\"locked\")\n"
   ]
  },
  {
   "cell_type": "code",
   "execution_count": 3,
   "id": "402679cc",
   "metadata": {},
   "outputs": [
    {
     "name": "stdout",
     "output_type": "stream",
     "text": [
      "Error: Cannot divide by zero!\n"
     ]
    }
   ],
   "source": [
    "#Problem: Write a program that asks for two numbers and divides them. Handle division by zero.\n",
    "a=int(input(\"enter num\"))\n",
    "b=int(input(\"enter num\"))\n",
    "try:\n",
    "    c=a/b\n",
    "    print(c)\n",
    "except ZeroDivisionError:\n",
    "    print(\"Error: Cannot divide by zero!\")\n"
   ]
  },
  {
   "cell_type": "code",
   "execution_count": 7,
   "id": "b0a9e8e9",
   "metadata": {},
   "outputs": [
    {
     "name": "stdout",
     "output_type": "stream",
     "text": [
      "enter valid numbers\n"
     ]
    }
   ],
   "source": [
    "#Problem: Write a program that handles both ValueError (invalid input) and ZeroDivisionError.\n",
    "\n",
    "try:\n",
    "    a=int(input(\"enter num\"))\n",
    "    b=int(input(\"enter num\"))\n",
    "    c=a/b\n",
    "    print(c) \n",
    "except ValueError:\n",
    "    print(\"enter valid numbers\")\n",
    "except ZerDivisionError:\n",
    "    print(\"error-cannot divide by zero\")\n"
   ]
  },
  {
   "cell_type": "code",
   "execution_count": 8,
   "id": "e760a1a6",
   "metadata": {},
   "outputs": [
    {
     "name": "stdout",
     "output_type": "stream",
     "text": [
      "error insufficient balance\n"
     ]
    }
   ],
   "source": [
    "#Problem: If withdrawal amount is greater than balance, raise an exception.\n",
    "try:\n",
    " balance=int(input())\n",
    " withdrawl=int(input())\n",
    " if withdrawl>balance:\n",
    "   raise Exception(\"insufficient balance\")\n",
    " else:\n",
    "   balance-=withdrawl\n",
    "   print(balance)\n",
    "except Exception as e:\n",
    "  print(\"error\",e)\n",
    "  \n"
   ]
  },
  {
   "cell_type": "code",
   "execution_count": 11,
   "id": "5b81bc51",
   "metadata": {},
   "outputs": [
    {
     "name": "stdout",
     "output_type": "stream",
     "text": [
      "-200\n",
      "Bill processing finished\n"
     ]
    }
   ],
   "source": [
    "# Problem: Calculate total price, handle invalid input, and always show \"Bill processing finished\".\n",
    "#• First 100 units → ₹5/unit\n",
    "#• Next 100 units → ₹7/unit\n",
    "#• Above 200 units → ₹10/uni\n",
    "try:\n",
    "    units=int(input(\"enter units\"))\n",
    "    if units<=100:\n",
    "        bill=units*5\n",
    "    elif units<=200:\n",
    "        bill=100*5+(units-100)*7\n",
    "    else:\n",
    "        bill=100*5+100*7+(units-200)*10\n",
    "    print(bill)\n",
    "except ValueError:\n",
    "    print(\"invalid input\")\n",
    "finally:\n",
    "    print(\"Bill processing finished\")\n"
   ]
  }
 ],
 "metadata": {
  "kernelspec": {
   "display_name": "Python 3",
   "language": "python",
   "name": "python3"
  },
  "language_info": {
   "codemirror_mode": {
    "name": "ipython",
    "version": 3
   },
   "file_extension": ".py",
   "mimetype": "text/x-python",
   "name": "python",
   "nbconvert_exporter": "python",
   "pygments_lexer": "ipython3",
   "version": "3.11.13"
  }
 },
 "nbformat": 4,
 "nbformat_minor": 5
}
