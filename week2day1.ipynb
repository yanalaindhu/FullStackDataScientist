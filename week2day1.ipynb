{
 "cells": [
  {
   "cell_type": "code",
   "execution_count": 11,
   "id": "0dfe3d65",
   "metadata": {},
   "outputs": [
    {
     "name": "stdout",
     "output_type": "stream",
     "text": [
      "[2, 3, 5, 7, 11, 13, 17, 19]\n"
     ]
    }
   ],
   "source": [
    "# Prime Number Finder-* Function that returns all prime numbers up to `n`.* Input: `n = 20`* Output: `[2, 3, 5, 7, 11, 13, 17, 19]`\n",
    "\n",
    "def prime(n):\n",
    "    primes = []\n",
    "    for num in range(2, n+1):\n",
    "        for i in range(2, num):\n",
    "            if num % i == 0:\n",
    "                break\n",
    "        else:  \n",
    "            primes.append(num)\n",
    "    return primes\n",
    "\n",
    "print(prime(20))\n"
   ]
  },
  {
   "cell_type": "code",
   "execution_count": 18,
   "id": "255c1875",
   "metadata": {},
   "outputs": [
    {
     "name": "stdout",
     "output_type": "stream",
     "text": [
      "True\n"
     ]
    }
   ],
   "source": [
    "#2. Palindrome Checker-* Check if a string is palindrome (ignoring spaces & case).\n",
    "#* Input: `\"Never odd or even\"`* Output: `True`\n",
    "def palindrome(s):\n",
    "    n=s.replace(\" \",\"\").lower()\n",
    "    if (n==n[::-1]):\n",
    "        print(\"True\")\n",
    "    else:\n",
    "        print(\"False\")\n",
    "palindrome(\"Never odd or even\")\n",
    "\n",
    "\n"
   ]
  },
  {
   "cell_type": "code",
   "execution_count": 23,
   "id": "e4794553",
   "metadata": {},
   "outputs": [
    {
     "data": {
      "text/plain": [
       "True"
      ]
     },
     "execution_count": 23,
     "metadata": {},
     "output_type": "execute_result"
    }
   ],
   "source": [
    "#3. Anagram Checker-* Function checks if two words are anagrams.* Input: `\"listen\", \"silent\"`* Output: `True`\n",
    "def anagram(s,n):\n",
    "    if sorted(s)==sorted(n) and len(s)==len(n):\n",
    "        return True\n",
    "    else:\n",
    "        return False\n",
    "anagram(\"listen\",\"silent\")\n"
   ]
  },
  {
   "cell_type": "code",
   "execution_count": 37,
   "id": "7a62b13a",
   "metadata": {},
   "outputs": [
    {
     "name": "stdout",
     "output_type": "stream",
     "text": [
      "vowels 2\n",
      "consonants 3\n"
     ]
    }
   ],
   "source": [
    " #. Count Vowels & Consonants- * Return count of vowels & consonants.* Input: `\"hello\"`* Output: `Vowels=2, Consonants=3`\n",
    "def count(s):\n",
    "    countv=0\n",
    "    countc=0\n",
    "    s.lower()\n",
    "    vowels=\"aeiou\"\n",
    "    for ch in s:\n",
    "     if ch.isalpha():\n",
    "        if ch in vowels:\n",
    "            countv+=1\n",
    "        else:\n",
    "            countc+=1\n",
    "    print(\"vowels\",countv)\n",
    "    print(\"consonants\",countc)\n",
    "count(\"hello\")\n",
    "\n",
    "    "
   ]
  },
  {
   "cell_type": "code",
   "execution_count": 40,
   "id": "059b682c",
   "metadata": {},
   "outputs": [
    {
     "data": {
      "text/plain": [
       "'amazing'"
      ]
     },
     "execution_count": 40,
     "metadata": {},
     "output_type": "execute_result"
    }
   ],
   "source": [
    "#5. Longest Word Finder-* Return longest word in a sentence.* Input: `\"Python is amazing\"`* Output: `\"amazing\"`\n",
    "def longestWord(s):\n",
    "    word=s.split()\n",
    "    long=\"\"\n",
    "    for ch in word:\n",
    "        if len(ch)>len(long):\n",
    "            long=ch\n",
    "    return long\n",
    "longestWord(\"Python is amazing\")\n",
    "\n",
    "\n"
   ]
  },
  {
   "cell_type": "code",
   "execution_count": 44,
   "id": "dec9a638",
   "metadata": {},
   "outputs": [
    {
     "data": {
      "text/plain": [
       "'D2MI~E'"
      ]
     },
     "execution_count": 44,
     "metadata": {},
     "output_type": "execute_result"
    }
   ],
   "source": [
    "#1. Random Password Generator (`random`, `string`)* Input: `length=6`* Output: `\"aB9@xQ\"`\n",
    "import random\n",
    "import string\n",
    "def password(len):\n",
    "    passW=\"\"\n",
    "    s=string.ascii_letters+string.digits+string.punctuation\n",
    "    for i in range(len):\n",
    "        passW+=random.choice(s)\n",
    "    return passW\n",
    "password(6)"
   ]
  },
  {
   "cell_type": "code",
   "execution_count": 52,
   "id": "0a55abc7",
   "metadata": {},
   "outputs": [
    {
     "data": {
      "text/plain": [
       "-0.9899924966004454"
      ]
     },
     "execution_count": 52,
     "metadata": {},
     "output_type": "execute_result"
    }
   ],
   "source": [
    "#Simple Calculator with `math`* Perform sqrt, factorial, sin, cos.* Input: `sqrt(25)`* Output: `5.0` \n",
    "import math\n",
    "def sqrt(n):\n",
    "    return math.sqrt(n)\n",
    "def factorial(l):\n",
    "    return math.factorial(l)\n",
    "def sin(m):\n",
    "    return math.sin(m)\n",
    "def cos(o):\n",
    "    return math.cos(o)\n",
    "sqrt(8)\n",
    "factorial(3)\n",
    "sin(3)\n",
    "cos(3)\n"
   ]
  },
  {
   "cell_type": "code",
   "execution_count": 5,
   "id": "6169d8e2",
   "metadata": {},
   "outputs": [
    {
     "name": "stdout",
     "output_type": "stream",
     "text": [
      "{'cat': 2, 'dog': 1}\n"
     ]
    }
   ],
   "source": [
    "#Word Frequency Counter (`collections.Counter`* Input: `\"cat dog cat\"`* Output: `{'cat':2,'dog':1}\n",
    "from collections import Counter\n",
    "def freq(text):\n",
    "    words=text.split()\n",
    "    freq=Counter(words)\n",
    "    print(dict(freq))\n",
    "freq(\"cat dog cat\")     "
   ]
  },
  {
   "cell_type": "code",
   "execution_count": 8,
   "id": "9f263f44",
   "metadata": {},
   "outputs": [
    {
     "name": "stdout",
     "output_type": "stream",
     "text": [
      "weather: rainy ,temp: 38\n"
     ]
    }
   ],
   "source": [
    "#Weather Simulator (random)* Input: None* Output: \"Weather: Sunny, Temp: 32°C\"\n",
    "import random\n",
    "weather=random.choice([\"sunny\",\"rainy\",\"cool\"])\n",
    "temp=random.randint(15,40) #random.uniform=>float nums\n",
    "print(\"weather:\",weather,\",temp:\",temp)\n"
   ]
  },
  {
   "cell_type": "code",
   "execution_count": 11,
   "id": "2626fbf0",
   "metadata": {},
   "outputs": [
    {
     "name": "stdout",
     "output_type": "stream",
     "text": [
      "5 4 3 2 1 Time’s up!\n"
     ]
    }
   ],
   "source": [
    "# Timer Program (time)* Input: countdown(5)* Output:5 4  3  2  1  Time’s up!\n",
    "import time\n",
    "def countdown(n):\n",
    "    while n>0:\n",
    "        print(n,end=\" \")\n",
    "        time.sleep(1)\n",
    "        n-=1\n",
    "    print(\"Time’s up!\")\n",
    "countdown(5)"
   ]
  },
  {
   "cell_type": "code",
   "execution_count": 14,
   "id": "fc96b30a",
   "metadata": {},
   "outputs": [
    {
     "name": "stdout",
     "output_type": "stream",
     "text": [
      "0 1 1 2 3 5 8 13 21 34 55 89 144 233 377 610 987 1597 2584 4181 "
     ]
    }
   ],
   "source": [
    "def fibonacci(n):\n",
    "    a, b = 0, 1\n",
    "    for i in range(n):\n",
    "        print(a, end=\" \")\n",
    "        a, b = b, a + b\n",
    "\n",
    "fibonacci(20)\n"
   ]
  },
  {
   "cell_type": "code",
   "execution_count": 2,
   "id": "0b9a6cb8",
   "metadata": {},
   "outputs": [
    {
     "name": "stdout",
     "output_type": "stream",
     "text": [
      "{'apple': 2, 'banana': 2, 'orange': 1}\n"
     ]
    }
   ],
   "source": [
    "#Unique Words Counter* Return unique words in a sentence.* Input: \"apple banana apple orange banana\"* Output: {'apple':2,'banana':2,'orange':1}\n",
    "\n",
    "from collections import Counter\n",
    "def count(text):\n",
    "    c=Counter(text.split())\n",
    "    print(dict(c))\n",
    "count(\"apple banana apple orange banana\")\n"
   ]
  },
  {
   "cell_type": "code",
   "execution_count": 4,
   "id": "4aa5b7c3",
   "metadata": {},
   "outputs": [
    {
     "data": {
      "text/plain": [
       "'Grade: B'"
      ]
     },
     "execution_count": 4,
     "metadata": {},
     "output_type": "execute_result"
    }
   ],
   "source": [
    "#4. Grade Calculator* Function takes marks and returns grade.* Input: [85, 90, 78]* Output: \"Grade: A\"\n",
    "def grade(marks):\n",
    "    avg=sum(marks)/len(marks)\n",
    "\n",
    "    if avg >= 90:\n",
    "        return \"Grade: A+\"\n",
    "    elif avg >= 80:\n",
    "        return \"Grade: A\"\n",
    "    elif avg >= 70:\n",
    "        return \"Grade: B\"\n",
    "    elif avg >= 60:\n",
    "        return \"Grade: C\"\n",
    "    else:\n",
    "        return \"Grade: F\"\n",
    "grade([85,90,60])\n"
   ]
  },
  {
   "cell_type": "code",
   "execution_count": 10,
   "id": "07f9bb0c",
   "metadata": {},
   "outputs": [
    {
     "data": {
      "text/plain": [
       "10"
      ]
     },
     "execution_count": 10,
     "metadata": {},
     "output_type": "execute_result"
    }
   ],
   "source": [
    "#Second Largest Number* Return 2nd largest number from a list.* Input: [10, 5, 20, 8]* Output: 10\n",
    "def secondlargest(nums):\n",
    "   return sorted(set(nums))[-2]\n",
    "secondlargest([10, 5, 20, 8])"
   ]
  },
  {
   "cell_type": "code",
   "execution_count": 7,
   "id": "81bdd63b",
   "metadata": {},
   "outputs": [
    {
     "name": "stdout",
     "output_type": "stream",
     "text": [
      "no of .py files 2\n",
      "no of .txt files 2\n"
     ]
    }
   ],
   "source": [
    "# os → Count Files by Extension-Write a program using os to count how many .txt and .py files are in the current directory.Sample Input (files in folder):\n",
    "\n",
    "import os\n",
    "def countfiles(list):\n",
    "\n",
    "    list=[\"notes.txt\", \"app.py\", \"data.csv\", \"report.txt\", \"main.py\"]\n",
    "    py=0\n",
    "    txt=0\n",
    "    for l in list:\n",
    "     _,ext=os.path.splitext(l)\n",
    "     if ext==\".py\":\n",
    "        py+=1\n",
    "     elif ext==\".txt\":\n",
    "        txt+=1\n",
    "    print(\"no of .py files\",py)\n",
    "    print(\"no of .txt files\",txt)\n",
    "countfiles(list)\n",
    "\n"
   ]
  },
  {
   "cell_type": "code",
   "execution_count": 9,
   "id": "f9db3e30",
   "metadata": {},
   "outputs": [
    {
     "name": "stdout",
     "output_type": "stream",
     "text": [
      "mean 87.85714285714286\n",
      "median 90\n",
      "variance 73.80952380952381\n"
     ]
    }
   ],
   "source": [
    "#statistics → Exam Score Analysis-Use statistics to calculate the mean, median, and variance of student exam scores.\n",
    " #Sample Input:Scores = [75, 80, 90, 100, 85, 90, 95]\n",
    "#Sample Output:Mean = 88.57,Median = 90,Variance = 71.43\n",
    "import statistics as st\n",
    "scores=[75, 80, 90, 100, 85, 90, 95]\n",
    "mean=st.mean(scores)\n",
    "median=st.median(scores)\n",
    "variance=st.variance(scores)\n",
    "print(\"mean\",mean)\n",
    "print(\"median\",median)\n",
    "print(\"variance\",variance)\n"
   ]
  },
  {
   "cell_type": "code",
   "execution_count": 10,
   "id": "9923beda",
   "metadata": {},
   "outputs": [
    {
     "name": "stdout",
     "output_type": "stream",
     "text": [
      "No real roots\n"
     ]
    }
   ],
   "source": [
    "#math → Quadratic Equation Solver-Use the math module to solve quadratic equations of the form ax² + bx + c = 0.\n",
    "import math\n",
    "\n",
    "a = int(input(\"Enter a: \"))\n",
    "b = int(input(\"Enter b: \"))\n",
    "c = int(input(\"Enter c: \"))\n",
    "d = b**2 - 4*a*c  \n",
    "if d >= 0:\n",
    "    x1 = (-b + math.sqrt(d)) / (2*a)\n",
    "    x2 = (-b - math.sqrt(d)) / (2*a)\n",
    "    print(\"Roots are:\", x1, \"and\", x2)\n",
    "else:\n",
    "    print(\"No real roots\")\n"
   ]
  },
  {
   "cell_type": "code",
   "execution_count": 12,
   "id": "eb797a97",
   "metadata": {},
   "outputs": [
    {
     "name": "stdout",
     "output_type": "stream",
     "text": [
      "You chose: rock\n",
      "Computer chose: scissors\n"
     ]
    }
   ],
   "source": [
    "#random → Rock Paper Scissors Game-Use random.choice() to let the computer play Rock–Paper–Scissors against the user.\n",
    "import random\n",
    "choices = [\"rock\", \"paper\", \"scissors\"]\n",
    "user = input(\"Enter rock, paper, or scissors: \").lower()\n",
    "computer = random.choice(choices)\n",
    "print(\"You chose:\", user)\n",
    "print(\"Computer chose:\", computer)\n",
    "if user == computer:\n",
    "    print(\"It's a tie!\")\n"
   ]
  },
  {
   "cell_type": "code",
   "execution_count": null,
   "id": "1c592007",
   "metadata": {},
   "outputs": [],
   "source": [
    "\n",
    "#sys → Sum from Command Line-Write a program using sys.argv to take three numbers from the command line and print their sum.\n",
    "import sys\n",
    "a = int(sys.argv[1])\n",
    "b = int(sys.argv[2])\n",
    "c = int(sys.argv[3])\n",
    "\n",
    "print(\"Sum =\", a + b + c)"
   ]
  },
  {
   "cell_type": "code",
   "execution_count": null,
   "id": "2f5664ea",
   "metadata": {},
   "outputs": [],
   "source": []
  }
 ],
 "metadata": {
  "kernelspec": {
   "display_name": "Python 3",
   "language": "python",
   "name": "python3"
  },
  "language_info": {
   "codemirror_mode": {
    "name": "ipython",
    "version": 3
   },
   "file_extension": ".py",
   "mimetype": "text/x-python",
   "name": "python",
   "nbconvert_exporter": "python",
   "pygments_lexer": "ipython3",
   "version": "3.11.13"
  }
 },
 "nbformat": 4,
 "nbformat_minor": 5
}
