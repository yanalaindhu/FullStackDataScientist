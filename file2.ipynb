{
 "cells": [
  {
   "cell_type": "code",
   "execution_count": 1,
   "id": "2f6d8a84",
   "metadata": {},
   "outputs": [
    {
     "name": "stdout",
     "output_type": "stream",
     "text": [
      "not Prime\n"
     ]
    }
   ],
   "source": [
    "#A security system checks whether the entered code is prime for extra authentication. \n",
    "# Write a program to check if a given number is prime.\n",
    "n=int(input())\n",
    "\n",
    "if n>1:\n",
    "   for i in range(2,n):\n",
    "    if n%i==0:\n",
    "     print(\"not Prime\")\n",
    "     break\n",
    "   else:\n",
    "     print(\"Prime\")\n",
    "else:\n",
    "  print(\"not Prime\")\n"
   ]
  },
  {
   "cell_type": "code",
   "execution_count": 2,
   "id": "44abf349",
   "metadata": {},
   "outputs": [
    {
     "name": "stdout",
     "output_type": "stream",
     "text": [
      "30\n"
     ]
    }
   ],
   "source": [
    "#In a class test, a teacher wants to know the second highest score among students. \n",
    "# Write a program to find the second largest number in a list.\n",
    "lst=list(map(int,input().split()))\n",
    "print(sorted(set(lst))[-2])\n"
   ]
  },
  {
   "cell_type": "code",
   "execution_count": 3,
   "id": "da4038f5",
   "metadata": {},
   "outputs": [
    {
     "name": "stdout",
     "output_type": "stream",
     "text": [
      "650\n"
     ]
    }
   ],
   "source": [
    "#A fitness app counts only even-numbered steps to calculate “balanced walking.” \n",
    "# Write a program to find the sum of even numbers from 1 to 50\n",
    "n=int(input(\"enter limit\"))\n",
    "s=0\n",
    "for i in range (1,n+1):\n",
    "    if i%2==0:\n",
    "        s+=i\n",
    "print(s)\n"
   ]
  },
  {
   "cell_type": "code",
   "execution_count": 5,
   "id": "1ecba4d6",
   "metadata": {},
   "outputs": [
    {
     "name": "stdout",
     "output_type": "stream",
     "text": [
      "upper count 1\n",
      "lower count 4\n"
     ]
    }
   ],
   "source": [
    "#A typing speed test wants to know how many uppercase and lowercase letters a user typed. \n",
    "# Write a program to count uppercase and lowercase characters in a string.\n",
    "n=input(\"enter string\")\n",
    "cu=0\n",
    "cl=0\n",
    "for ch in n:\n",
    "    if ch.isupper():\n",
    "        cu+=1\n",
    "    if ch.islower():\n",
    "        cl+=1\n",
    "print(\"upper count\",cu)\n",
    "print(\"lower count\",cl)"
   ]
  },
  {
   "cell_type": "code",
   "execution_count": 6,
   "id": "f1af840f",
   "metadata": {},
   "outputs": [
    {
     "name": "stdout",
     "output_type": "stream",
     "text": [
      "0 1 1 2 3 5 8 13 "
     ]
    }
   ],
   "source": [
    "#A financial tool simulates Fibonacci-like growth in savings.\n",
    "#  Write a program to generate the Fibonacci sequence up to n terms.\n",
    "n=int(input())\n",
    "a,b=0,1\n",
    "for i in range(n):\n",
    "    print(a,end=\" \")\n",
    "    a,b=b,a+b"
   ]
  },
  {
   "cell_type": "code",
   "execution_count": 10,
   "id": "17eded6e",
   "metadata": {},
   "outputs": [
    {
     "name": "stdout",
     "output_type": "stream",
     "text": [
      "yes\n"
     ]
    }
   ],
   "source": [
    "#A word puzzle game checks if two words are anagrams (same letters but shuffled). \n",
    "# Write a program to check if two strings are anagrams.\n",
    "m=input()\n",
    "n=input()\n",
    "m1=m.lower()\n",
    "n1=n.lower()\n",
    "if sorted(m1)==sorted(n1):\n",
    "    print(\"yes\")\n",
    "else:\n",
    "    print(\"no\")\n",
    "\n"
   ]
  },
  {
   "cell_type": "code",
   "execution_count": 13,
   "id": "56d79039",
   "metadata": {},
   "outputs": [
    {
     "name": "stdout",
     "output_type": "stream",
     "text": [
      "yes\n"
     ]
    }
   ],
   "source": [
    "#A science experiment needs to verify whether a number is perfect (sum of divisors = number).\n",
    "#  Write a program to check if a number is a perfect number.\n",
    "n=int(input(\"enter number\"))\n",
    "s=0\n",
    "for i in range(1,n):\n",
    "    if n%i==0:\n",
    "        s+=i\n",
    "if s==n:\n",
    "    print(\"yes\")\n",
    "else:\n",
    "    print(\"no\")"
   ]
  },
  {
   "cell_type": "code",
   "execution_count": 18,
   "id": "4aa22db0",
   "metadata": {},
   "outputs": [
    {
     "name": "stdout",
     "output_type": "stream",
     "text": [
      "Percentage: 66.0 Grade: C\n"
     ]
    }
   ],
   "source": [
    "#A school report system calculates percentage and assigns grades:\n",
    "#≥90 → A,≥75 → B,≥50 → C,<50 → Fail\n",
    "marks=list(map(int,input(\"Enter 5 subject marks separated by space: \").split()))\n",
    "p=sum(marks)/5\n",
    "if p>=90: g=\"A\"\n",
    "elif p>=75: g=\"B\"\n",
    "elif p>=50: g=\"C\"\n",
    "else: g=\"Fail\"\n",
    "print(\"Percentage:\",p,\"Grade:\",g)"
   ]
  },
  {
   "cell_type": "code",
   "execution_count": 21,
   "id": "919e7643",
   "metadata": {},
   "outputs": [
    {
     "name": "stdout",
     "output_type": "stream",
     "text": [
      "2 3 5 7 11 13 17 19 23 29 31 37 41 43 47 53 59 61 67 71 73 79 83 89 97 "
     ]
    }
   ],
   "source": [
    "#A mathematics quiz app generates all prime numbers between 1 and 100.\n",
    "#  Write a program to print all prime numbers in this range.\n",
    "n = int(input(\"Enter limit: \"))\n",
    "\n",
    "for i in range(2, n+1):\n",
    "    for j in range(2, i):\n",
    "        if i % j == 0:\n",
    "            break\n",
    "    else:  \n",
    "        print(i, end=\" \")\n"
   ]
  },
  {
   "cell_type": "code",
   "execution_count": 24,
   "id": "3f43553b",
   "metadata": {},
   "outputs": [
    {
     "name": "stdout",
     "output_type": "stream",
     "text": [
      "No of words: 2\n"
     ]
    }
   ],
   "source": [
    "#An online editor counts words in an article but doesn’t allow using split().\n",
    "#  Write a program to count the number of words in a sentence.\n",
    "n = input(\"Enter sentence: \")\n",
    "words = n.split()           \n",
    "cw = len(words)             \n",
    "print(\"No of words:\", cw)\n"
   ]
  },
  {
   "cell_type": "code",
   "execution_count": 27,
   "id": "9b6a8691",
   "metadata": {},
   "outputs": [
    {
     "name": "stdout",
     "output_type": "stream",
     "text": [
      "final price 100.0\n"
     ]
    }
   ],
   "source": [
    "#Movie Ticket Discount-A cinema gives a 20% discount if the customer is a student and 10% discount if the customer is a senior citizen (age ≥ 60).\n",
    "#Write a program that takes ticket price, age, and student status (yes/no) as input and prints the final ticket price.\n",
    "\n",
    "price=int(input(\"enter price\"))\n",
    "age=int(input(\"enter age\"))\n",
    "student=input(\"yes/no\")\n",
    "if student==\"yes\":\n",
    "    price=price*(20/100)\n",
    "elif age>=60:\n",
    "     price=price*(10/100)\n",
    "\n",
    "print(\"final price\",price)\n",
    "\n"
   ]
  },
  {
   "cell_type": "code",
   "execution_count": 29,
   "id": "e80eda8a",
   "metadata": {},
   "outputs": [
    {
     "name": "stdout",
     "output_type": "stream",
     "text": [
      "final amount 506\n"
     ]
    }
   ],
   "source": [
    "#Shopping Cart Free Delivery-An e-commerce website gives free delivery if the total cart value is more than ₹500. Otherwise, a delivery charge of ₹50 is applied.\n",
    "#Write a program that takes the cart total as input and prints the final amount payable.\n",
    "cart=int(input(\"enter cart amount\"))\n",
    "if cart>500:\n",
    "    print(\"free delivery\")\n",
    "else:\n",
    "    cart+=50\n",
    "print(\"final amount\",cart)"
   ]
  },
  {
   "cell_type": "code",
   "execution_count": 33,
   "id": "60e2b3e6",
   "metadata": {},
   "outputs": [
    {
     "name": "stdout",
     "output_type": "stream",
     "text": [
      "fail\n"
     ]
    }
   ],
   "source": [
    "#Marks Grading System-A college follows this grading system:\n",
    "#90–100: A,75–89: B,50–74: C\n",
    "n=int(input(\"enter marks\"))\n",
    "if 90<=n<=100:\n",
    "    print(\"A\")\n",
    "elif 75<=n<=89:\n",
    "    print(\"B\")\n",
    "elif 50<=n<=74:\n",
    "    print(\"C\")\n",
    "else:\n",
    "    print(\"fail\")\n"
   ]
  },
  {
   "cell_type": "code",
   "execution_count": null,
   "id": "e5136978",
   "metadata": {},
   "outputs": [
    {
     "name": "stdout",
     "output_type": "stream",
     "text": [
      "50.45\n"
     ]
    }
   ],
   "source": [
    "#Restaurant Tip Calculator-A restaurant suggests tips based on the bill:\n",
    "#Less than 500 → 5% tip,500–1000 → 10% tip,More than 1000 → 15% tip\n",
    "#Write a program that takes the bill amount and prints the tip to be added.\n",
    "bill=int(input(\"enter bill\"))\n",
    "tip=0\n",
    "if bill>500:\n",
    "    tip=(5/100)*bill\n",
    "elif 500<=bill<=1000:\n",
    "     tip=(10/100)*bill\n",
    "elif bill>1000:\n",
    "     tip=(15/100)*bill\n",
    "print(tip)"
   ]
  },
  {
   "cell_type": "code",
   "execution_count": 35,
   "id": "98dfde68",
   "metadata": {},
   "outputs": [
    {
     "name": "stdout",
     "output_type": "stream",
     "text": [
      "Cheapest: 2500\n"
     ]
    }
   ],
   "source": [
    "#Gym Membership Plan-A gym charges:₹500 per month,₹2700 for 6 months (discounted),₹5000 for 12 months (discounted)\n",
    "#Write a program where the user enters the membership period (months) and the program prints the cheapest option.\n",
    "months = int(input(\"Enter months: \"))\n",
    "monthly = months * 500\n",
    "months6 = (months // 6) * 2700 + (months % 6) * 500\n",
    "months12 = (months // 12) * 5000 + (months % 12) * 500\n",
    "cheapest = min(monthly,months6, months12)\n",
    "print(\"Cheapest:\", cheapest)\n"
   ]
  },
  {
   "cell_type": "code",
   "execution_count": 36,
   "id": "d2e2aba2",
   "metadata": {},
   "outputs": [
    {
     "name": "stdout",
     "output_type": "stream",
     "text": [
      "not eligible\n"
     ]
    }
   ],
   "source": [
    "#Exam Eligibility-A student must have at least 75% attendance to sit for the exam.\n",
    "#Write a program that takes total classes and classes attended as input and prints whether the student is eligible or not eligible.\n",
    "total = int(input(\"Enter total classes: \"))\n",
    "attended = int(input(\"Enter classes attended: \"))\n",
    "if (attended / total) * 100 >= 75:\n",
    "    print(\"eligible\")\n",
    "else:\n",
    "    print(\"not eligible\")\n"
   ]
  },
  {
   "cell_type": "code",
   "execution_count": 37,
   "id": "e93da32e",
   "metadata": {},
   "outputs": [
    {
     "name": "stdout",
     "output_type": "stream",
     "text": [
      "transaction successful\n"
     ]
    }
   ],
   "source": [
    "#ATM Withdrawal-An ATM only allows withdrawals in multiples of 100.\n",
    "#Write a program that takes the withdrawal amount and prints whether the transaction is successful or failed.\n",
    "amount = int(input(\"Enter withdrawal amount: \"))\n",
    "if amount % 100 == 0:\n",
    "    print(\"transaction successful\")\n",
    "else:\n",
    "    print(\"transaction failed\")\n",
    "\n"
   ]
  },
  {
   "cell_type": "code",
   "execution_count": 38,
   "id": "accdf309",
   "metadata": {},
   "outputs": [
    {
     "name": "stdout",
     "output_type": "stream",
     "text": [
      "Too hot, stay indoors!\n"
     ]
    }
   ],
   "source": [
    "#Weather Suggestion-Write a program that takes the temperature as input and gives a suggestion:\n",
    "#≥35 → \"Too hot, stay indoors!\",20–35 → \"Nice weather, go out!\",<20 → \"It’s cold, wear warm clothes!\"\n",
    "temp = int(input(\"Enter temperature: \"))\n",
    "\n",
    "if temp >= 35:\n",
    "    print(\"Too hot, stay indoors!\")\n",
    "elif 20 <= temp < 35:\n",
    "    print(\"Nice weather, go out!\")\n",
    "else:\n",
    "    print(\"It's cold, wear warm clothes!\")\n"
   ]
  },
  {
   "cell_type": "code",
   "execution_count": 39,
   "id": "cc356e37",
   "metadata": {},
   "outputs": [
    {
     "name": "stdout",
     "output_type": "stream",
     "text": [
      "Fine amount: ₹ 50\n"
     ]
    }
   ],
   "source": [
    "#Library Fine-A library charges a fine for late book returns:\n",
    "#1–5 days → ₹10,6–10 days → ₹50,More than 10 days → ₹100\n",
    "#Write a program that takes the number of late days as input and prints the fine amount.\n",
    "days = int(input(\"Enter number of late days: \"))\n",
    "if 1 <= days <= 5:\n",
    "    fine = 10\n",
    "elif 6 <= days <= 10:\n",
    "    fine = 50\n",
    "elif days > 10:\n",
    "    fine = 100\n",
    "else:\n",
    "    fine = 0  \n",
    "print(\"Fine amount: ₹\", fine)\n"
   ]
  },
  {
   "cell_type": "code",
   "execution_count": 43,
   "id": "3cbc296b",
   "metadata": {},
   "outputs": [
    {
     "name": "stdout",
     "output_type": "stream",
     "text": [
      "Bill amount: 1200\n"
     ]
    }
   ],
   "source": [
    "#Electricity Bill Calculator-An electricity board charges:\n",
    "#First 100 units → ₹5 per unit,Next 100 units (101–200) → ₹7 per unit,Above 200 units → ₹10 per unit\n",
    "#Write a program that takes units consumed as input and prints the bill amount.\n",
    "units = int(input(\"Enter units: \"))\n",
    "\n",
    "if units <= 100:\n",
    "    print(\"Bill amount:\", units * 5)\n",
    "elif units <= 200:\n",
    "    print(\"Bill amount:\", (100 * 5) + (units - 100) * 7)\n",
    "else:\n",
    "    print(\"Bill amount:\", (100 * 5) + (100 * 7) + (units - 200) * 10)\n",
    "\n"
   ]
  }
 ],
 "metadata": {
  "kernelspec": {
   "display_name": "Python 3",
   "language": "python",
   "name": "python3"
  },
  "language_info": {
   "codemirror_mode": {
    "name": "ipython",
    "version": 3
   },
   "file_extension": ".py",
   "mimetype": "text/x-python",
   "name": "python",
   "nbconvert_exporter": "python",
   "pygments_lexer": "ipython3",
   "version": "3.11.13"
  }
 },
 "nbformat": 4,
 "nbformat_minor": 5
}
