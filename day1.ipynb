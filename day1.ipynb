{
 "cells": [
  {
   "cell_type": "code",
   "execution_count": 11,
   "id": "0dfe3d65",
   "metadata": {},
   "outputs": [
    {
     "name": "stdout",
     "output_type": "stream",
     "text": [
      "[2, 3, 5, 7, 11, 13, 17, 19]\n"
     ]
    }
   ],
   "source": [
    "# Prime Number Finder-* Function that returns all prime numbers up to `n`.* Input: `n = 20`* Output: `[2, 3, 5, 7, 11, 13, 17, 19]`\n",
    "\n",
    "def prime(n):\n",
    "    primes = []\n",
    "    for num in range(2, n+1):\n",
    "        for i in range(2, num):\n",
    "            if num % i == 0:\n",
    "                break\n",
    "        else:  \n",
    "            primes.append(num)\n",
    "    return primes\n",
    "\n",
    "print(prime(20))\n"
   ]
  },
  {
   "cell_type": "code",
   "execution_count": 18,
   "id": "255c1875",
   "metadata": {},
   "outputs": [
    {
     "name": "stdout",
     "output_type": "stream",
     "text": [
      "True\n"
     ]
    }
   ],
   "source": [
    "#2. Palindrome Checker-* Check if a string is palindrome (ignoring spaces & case).\n",
    "#* Input: `\"Never odd or even\"`* Output: `True`\n",
    "def palindrome(s):\n",
    "    n=s.replace(\" \",\"\").lower()\n",
    "    if (n==n[::-1]):\n",
    "        print(\"True\")\n",
    "    else:\n",
    "        print(\"False\")\n",
    "palindrome(\"Never odd or even\")\n",
    "\n",
    "\n"
   ]
  },
  {
   "cell_type": "code",
   "execution_count": 23,
   "id": "e4794553",
   "metadata": {},
   "outputs": [
    {
     "data": {
      "text/plain": [
       "True"
      ]
     },
     "execution_count": 23,
     "metadata": {},
     "output_type": "execute_result"
    }
   ],
   "source": [
    "#3. Anagram Checker-* Function checks if two words are anagrams.* Input: `\"listen\", \"silent\"`* Output: `True`\n",
    "def anagram(s,n):\n",
    "    if sorted(s)==sorted(n) and len(s)==len(n):\n",
    "        return True\n",
    "    else:\n",
    "        return False\n",
    "anagram(\"listen\",\"silent\")\n"
   ]
  },
  {
   "cell_type": "code",
   "execution_count": 37,
   "id": "7a62b13a",
   "metadata": {},
   "outputs": [
    {
     "name": "stdout",
     "output_type": "stream",
     "text": [
      "vowels 2\n",
      "consonants 3\n"
     ]
    }
   ],
   "source": [
    " #. Count Vowels & Consonants- * Return count of vowels & consonants.* Input: `\"hello\"`* Output: `Vowels=2, Consonants=3`\n",
    "def count(s):\n",
    "    countv=0\n",
    "    countc=0\n",
    "    s.lower()\n",
    "    vowels=\"aeiou\"\n",
    "    for ch in s:\n",
    "     if ch.isalpha():\n",
    "        if ch in vowels:\n",
    "            countv+=1\n",
    "        else:\n",
    "            countc+=1\n",
    "    print(\"vowels\",countv)\n",
    "    print(\"consonants\",countc)\n",
    "count(\"hello\")\n",
    "\n",
    "    "
   ]
  },
  {
   "cell_type": "code",
   "execution_count": 40,
   "id": "059b682c",
   "metadata": {},
   "outputs": [
    {
     "data": {
      "text/plain": [
       "'amazing'"
      ]
     },
     "execution_count": 40,
     "metadata": {},
     "output_type": "execute_result"
    }
   ],
   "source": [
    "#5. Longest Word Finder-* Return longest word in a sentence.* Input: `\"Python is amazing\"`* Output: `\"amazing\"`\n",
    "def longestWord(s):\n",
    "    word=s.split()\n",
    "    long=\"\"\n",
    "    for ch in word:\n",
    "        if len(ch)>len(long):\n",
    "            long=ch\n",
    "    return long\n",
    "longestWord(\"Python is amazing\")\n",
    "\n",
    "\n"
   ]
  },
  {
   "cell_type": "code",
   "execution_count": 44,
   "id": "dec9a638",
   "metadata": {},
   "outputs": [
    {
     "data": {
      "text/plain": [
       "'D2MI~E'"
      ]
     },
     "execution_count": 44,
     "metadata": {},
     "output_type": "execute_result"
    }
   ],
   "source": [
    "#1. Random Password Generator (`random`, `string`)* Input: `length=6`* Output: `\"aB9@xQ\"`\n",
    "import random\n",
    "import string\n",
    "def password(len):\n",
    "    passW=\"\"\n",
    "    s=string.ascii_letters+string.digits+string.punctuation\n",
    "    for i in range(len):\n",
    "        passW+=random.choice(s)\n",
    "    return passW\n",
    "password(6)"
   ]
  },
  {
   "cell_type": "code",
   "execution_count": 52,
   "id": "0a55abc7",
   "metadata": {},
   "outputs": [
    {
     "data": {
      "text/plain": [
       "-0.9899924966004454"
      ]
     },
     "execution_count": 52,
     "metadata": {},
     "output_type": "execute_result"
    }
   ],
   "source": [
    "#Simple Calculator with `math`* Perform sqrt, factorial, sin, cos.* Input: `sqrt(25)`* Output: `5.0` \n",
    "import math\n",
    "def sqrt(n):\n",
    "    return math.sqrt(n)\n",
    "def factorial(l):\n",
    "    return math.factorial(l)\n",
    "def sin(m):\n",
    "    return math.sin(m)\n",
    "def cos(o):\n",
    "    return math.cos(o)\n",
    "sqrt(8)\n",
    "factorial(3)\n",
    "sin(3)\n",
    "cos(3)\n"
   ]
  },
  {
   "cell_type": "code",
   "execution_count": null,
   "id": "6169d8e2",
   "metadata": {},
   "outputs": [],
   "source": [
    "#Word Frequency Counter (`collections.Counter`* Input: `\"cat dog cat\"`* Output: `{'cat':2,'dog':1}\n",
    "def wordFrequency(s):\n",
    "    word=s.split()\n",
    "    for ch in word:\n",
    "        `"
   ]
  }
 ],
 "metadata": {
  "kernelspec": {
   "display_name": "Python 3",
   "language": "python",
   "name": "python3"
  },
  "language_info": {
   "codemirror_mode": {
    "name": "ipython",
    "version": 3
   },
   "file_extension": ".py",
   "mimetype": "text/x-python",
   "name": "python",
   "nbconvert_exporter": "python",
   "pygments_lexer": "ipython3",
   "version": "3.11.13"
  }
 },
 "nbformat": 4,
 "nbformat_minor": 5
}
